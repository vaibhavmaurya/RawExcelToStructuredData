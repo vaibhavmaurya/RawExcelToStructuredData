{
 "cells": [
  {
   "cell_type": "code",
   "execution_count": 1,
   "metadata": {},
   "outputs": [],
   "source": [
    "config_path = \"test\\\\Config.xlsx\"\n",
    "OUTPUT_PATH = \"test\\\\Processed\"\n",
    "data_path = \"test\\\\data\\\\2020 Novartis SOW_Capmatinib US _V19.xlsx\"\n",
    "# data_path = \"Check\\\\data\"\n",
    "log_path = \"test\\\\Logs\"\n",
    "import pandas as pd"
   ]
  },
  {
   "cell_type": "code",
   "execution_count": 4,
   "metadata": {},
   "outputs": [],
   "source": [
    "from ExcelParser.MakeDF import CleanDFByConfig\n",
    "from io import BytesIO\n",
    "import os\n",
    "import traceback\n",
    "\n",
    "\n",
    "def process_sheet(data_path, sheet_name, in_mem_file, cdf, filename):\n",
    "    df_sow, status, actual_sheet_name = None, None, None\n",
    "    try:\n",
    "        df_sow = cdf.get_df(data_path, bytesIO=in_mem_file, sheet_name=sheet_name, excel_table=True)\n",
    "        actual_sheet_name = df_sow.iloc[0].SheetName or sheet_name\n",
    "    except Exception as e:\n",
    "        traceback.print_exc()\n",
    "        df_sow, status =  {\n",
    "                   \"status\": \"Error\",\n",
    "                   \"filename\": filename,\n",
    "                   \"error\": e,\n",
    "                   \"sheet\": actual_sheet_name\n",
    "               }, None\n",
    "    else:\n",
    "        status = {\n",
    "                   \"status\": \"Success\",\n",
    "                   \"filename\": filename,\n",
    "                   \"error\": \"\",\n",
    "                   \"sheet\": actual_sheet_name\n",
    "               }\n",
    "    return {\n",
    "            \"status\":status,\n",
    "            \"df\":df_sow\n",
    "    }\n",
    "\n",
    "\n",
    "def process_sow(config_path, data_path):\n",
    "    filename = data_path[data_path.rfind(\"\\\\\") + 1:]\n",
    "    cdf = CleanDFByConfig(config_path)\n",
    "    a = {}\n",
    "    with open(data_path, \"rb\") as f:\n",
    "        in_mem_file = BytesIO(f.read())\n",
    "        a[\"sow desc\"] = process_sheet(data_path, \"sow desc\", in_mem_file, cdf, filename)\n",
    "        a[\"sow tactical\"] = process_sheet(data_path, \"sow tactical\", in_mem_file, cdf, filename)\n",
    "    return a\n"
   ]
  },
  {
   "cell_type": "code",
   "execution_count": 5,
   "metadata": {},
   "outputs": [
    {
     "name": "stderr",
     "output_type": "stream",
     "text": [
      "C:\\ProgramData\\Anaconda3\\lib\\site-packages\\pandas\\core\\ops.py:1649: FutureWarning: elementwise comparison failed; returning scalar instead, but in the future will perform elementwise comparison\n",
      "  result = method(y)\n"
     ]
    },
    {
     "name": "stdout",
     "output_type": "stream",
     "text": [
      "{'project name|project desc|project assump': {'coordinate': (22, 3), 'cell_value': 'Project Name'}}\n",
      "Directly read dataframe\n",
      "Extract Direct Table\n",
      "Header is : 22 and sheet name is 1. SOW Description\n",
      "{'functional hour|department|location': {'coordinate': (28, 2), 'cell_value': 'Location'}}\n",
      "Directly read dataframe\n",
      "Extract Direct Table\n",
      "Header is : 28 and sheet name is 2. SOW Tactical & Staff Plan\n"
     ]
    }
   ],
   "source": [
    "p = process_sow(config_path, data_path)"
   ]
  },
  {
   "cell_type": "code",
   "execution_count": 7,
   "metadata": {},
   "outputs": [
    {
     "name": "stdout",
     "output_type": "stream",
     "text": [
      "{'status': 'Success', 'filename': '2020 Novartis SOW_Capmatinib US _V19.xlsx', 'error': '', 'sheet': '1. SOW Description'}\n",
      "{'status': 'Success', 'filename': '2020 Novartis SOW_Capmatinib US _V19.xlsx', 'error': '', 'sheet': '2. SOW Tactical & Staff Plan'}\n"
     ]
    }
   ],
   "source": [
    "for _, v in p.items():\n",
    "    print(v[\"status\"])"
   ]
  },
  {
   "cell_type": "code",
   "execution_count": 6,
   "metadata": {},
   "outputs": [
    {
     "data": {
      "text/plain": [
       "Functional Hourly Rate                                291\n",
       "Total Fees                                         160050\n",
       "Title                         SVP Client Service Director\n",
       "Currency                                            (USD)\n",
       "Name                                     Bethany Sardinha\n",
       "Tier                                               Tier 3\n",
       "Total Hours                                           550\n",
       "Agency                                    DDB Health (US)\n",
       "Time Based On FTE Hours                          0.305556\n",
       "Department                             Account_Management\n",
       "Location                                               US\n",
       "ID                         2020NovartisSOWCapmatinibUSV19\n",
       "row_number                                             29\n",
       "SOW FTE Hours                                        1800\n",
       "Novartis Division                                Oncology\n",
       "Lead Agency                               DDB Health (US)\n",
       "Lead Agency Currency                              $ (USD)\n",
       "Discipline                                   Professional\n",
       "Other Discipline                                         \n",
       "Brand                                          Capmatinib\n",
       "Other Brand                                             0\n",
       "Country                                         USA (USD)\n",
       "Start Date                            2020-01-03 00:00:00\n",
       "End Date                              2021-01-02 00:00:00\n",
       "Modification Date                     2019-01-05 00:00:00\n",
       "SheetName                    2. SOW Tactical & Staff Plan\n",
       "Name: 0, dtype: object"
      ]
     },
     "execution_count": 6,
     "metadata": {},
     "output_type": "execute_result"
    }
   ],
   "source": [
    "p['sow tactical'][\"df\"].iloc[0]"
   ]
  },
  {
   "cell_type": "code",
   "execution_count": null,
   "metadata": {},
   "outputs": [],
   "source": [
    "k = \"43468\""
   ]
  },
  {
   "cell_type": "code",
   "execution_count": null,
   "metadata": {},
   "outputs": [],
   "source": [
    "k.isnumeric(), k.isdigit()"
   ]
  },
  {
   "cell_type": "code",
   "execution_count": null,
   "metadata": {},
   "outputs": [],
   "source": [
    "p['sow tactical'][\"df\"].iloc[0][\"SheetName\"]"
   ]
  },
  {
   "cell_type": "code",
   "execution_count": null,
   "metadata": {},
   "outputs": [],
   "source": [
    "from dateutil.parser import parse\n",
    "origin_date = parse(\"1900-01-01\")\n",
    "d = str(43468).strip()\n",
    "origin_date + pd.DateOffset(days=int(d))"
   ]
  },
  {
   "cell_type": "code",
   "execution_count": null,
   "metadata": {},
   "outputs": [],
   "source": [
    "def clean_date(field_series, *args, **kwargs):\n",
    "    origin_date = parse(\"1900-01-01\")\n",
    "\n",
    "    def parse_to_date(x):\n",
    "        d = str(x).strip()\n",
    "        try:\n",
    "            if d.isnumeric():\n",
    "                return origin_date + pd.DateOffset(days=int(d))\n",
    "            elif d == 'None':\n",
    "                return parse(\"1900-01-01\")\n",
    "            else:\n",
    "                k = parse(d)\n",
    "                return k if len(d) >= 5 else parse(f\"2020-{d}-01\")\n",
    "        except:\n",
    "            return parse(\"1900-01-01\")\n",
    "\n",
    "    return pd.to_datetime(field_series.apply(parse_to_date), errors=\"coerce\")"
   ]
  },
  {
   "cell_type": "code",
   "execution_count": null,
   "metadata": {},
   "outputs": [],
   "source": []
  }
 ],
 "metadata": {
  "kernelspec": {
   "display_name": "Python 3",
   "language": "python",
   "name": "python3"
  },
  "language_info": {
   "codemirror_mode": {
    "name": "ipython",
    "version": 3
   },
   "file_extension": ".py",
   "mimetype": "text/x-python",
   "name": "python",
   "nbconvert_exporter": "python",
   "pygments_lexer": "ipython3",
   "version": "3.7.3"
  }
 },
 "nbformat": 4,
 "nbformat_minor": 1
}
